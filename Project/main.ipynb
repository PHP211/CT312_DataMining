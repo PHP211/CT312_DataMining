{
 "cells": [
  {
   "cell_type": "code",
   "execution_count": 54,
   "metadata": {},
   "outputs": [],
   "source": [
    "import json\n",
    "import pandas as pd\n",
    "import numpy as np\n",
    "import re\n",
    "from pyvi import ViTokenizer\n",
    "from sklearn.feature_extraction.text import TfidfVectorizer\n",
    "from sklearn.preprocessing import LabelEncoder\n",
    "from sklearn.model_selection import train_test_split\n",
    "from sklearn.linear_model import LogisticRegression\n",
    "from sklearn.metrics import classification_report, accuracy_score"
   ]
  },
  {
   "cell_type": "code",
   "execution_count": 55,
   "metadata": {},
   "outputs": [],
   "source": [
    "with open('data/dataset.json', 'r', encoding='utf-8') as f:\n",
    "    data = json.load(f)\n",
    "\n",
    "df = pd.DataFrame(data)"
   ]
  },
  {
   "cell_type": "code",
   "execution_count": 56,
   "metadata": {},
   "outputs": [
    {
     "name": "stdout",
     "output_type": "stream",
     "text": [
      "                                                text    category\n",
      "0  Cá nhân hóa trải nghiệm bằng công nghệ tiên ti...  Apps/Games\n",
      "1  Microsoft ra mắt Office 2024. Office 2024 đã c...  Apps/Games\n",
      "2  Những thành tựu khó đạt được nhất trong Black ...  Apps/Games\n",
      "3  Tựa game \"đắt\" nhất trên Steam, mua đủ hết nội...  Apps/Games\n",
      "4  CEO Game Science trả lời hài hước về khả năng ...  Apps/Games\n"
     ]
    }
   ],
   "source": [
    "tmp_label = ['Apps/Games', 'Internet', 'Khám phá', 'Mobile', 'Tin ICT', 'Đồ chơi số']\n",
    "df = df[df['category'].isin(tmp_label)]\n",
    "df['text'] = df['title'] + \". \" + df['subtitle']\n",
    "df = df[['text', 'category']]\n",
    "print(df.head())"
   ]
  },
  {
   "cell_type": "code",
   "execution_count": 57,
   "metadata": {},
   "outputs": [
    {
     "name": "stdout",
     "output_type": "stream",
     "text": [
      "1943\n"
     ]
    }
   ],
   "source": [
    "def read_txt(file_path):\n",
    "    with open(file_path, 'r', encoding='utf-8') as file:\n",
    "        lines = [line.strip() for line in file if line.strip()]\n",
    "    return lines\n",
    "\n",
    "stopwords = read_txt('stopwords.txt')\n",
    "print(len(stopwords))"
   ]
  },
  {
   "cell_type": "code",
   "execution_count": 58,
   "metadata": {},
   "outputs": [
    {
     "name": "stdout",
     "output_type": "stream",
     "text": [
      "{'ship': 'vận chuyển', 'shop': 'cửa hàng', 'm': 'mình', 'mik': 'mình', 'ko': 'không', 'k': 'không', 'kh': 'không', 'khong': 'không', 'kg': 'không', 'khg': 'không', 'tl': 'trả lời', 'rep': 'trả lời', 'r': 'rồi', 'fb': 'facebook', 'face': 'faceook', 'thanks': 'cảm ơn', 'thank': 'cảm ơn', 'tks': 'cảm ơn', 'tk': 'cảm ơn', 'ok': 'tốt', 'oki': 'tốt', 'okie': 'tốt', 'sp': 'sản phẩm', 'dc': 'được', 'vs': 'với', 'đt': 'điện thoại', 'thjk': 'thích', 'thik': 'thích', 'qá': 'quá', 'trể': 'trễ', 'bgjo': 'bao giờ', 'h': 'giờ', 'qa': 'quá', 'dep': 'đẹp', 'xau': 'xấu', 'ib': 'nhắn tin', 'cute': 'dễ thương', 'sz': 'size', 'good': 'tốt', 'god': 'tốt', 'bt': 'bình thường', 'sd': 'sử dụng', 'ios': 'hệ điều hành', 'vk': 'vợ', 'cung': 'cũng', 'oke': 'tốt', 'thk': 'cảm ơn', 'thnk': 'cảm ơn', 'series': 'bộ', 'ng': 'người', 'onl': 'online', 'ip': 'điện thoại', 'vsoi': 'với', 'trâu': 'tốt', 'edit': 'chỉnh sửa', 'xò': 'tốt', '5sao': 'tốt', 'thơm': 'tốt', 'chs': 'chả hiểu sao', 'klq': 'không liên quan', 'clgt': 'cần lời giải thích', 'hum': 'hôm', 'dwc': 'được', 'wa': 'quá', 'wen': 'quên', 'lun': 'luôn', 'bun': 'buồn', 'k?': 'không', 'u': 'bạn', 'rui': 'rồi', 'chuối': 'dỡ', 'mí': 'mấy', 'hok': 'không', 'hk': 'không', 'hkg': 'không', 'hong': 'không', 'phở': 'đẹp', 'thx': 'cảm ơn', 'thks': 'cảm ơn', 'tx': 'cảm ơn', 'thaxu': 'cảm ơn', 'ntn': 'như thế nào', 'mog': 'mong', 'nhung': 'nhưng', 'chi': 'chỉ', 'co': 'có', 'minh': 'mình', 'mạ': 'mẹ', 'mensenge': 'tin nhắn', 'nhuwng': 'nhưng', 'cskh': 'chăm sóc khách hàng', 'wet': 'website', 'fix': 'sửa lỗi', 'lag': 'chậm', 'sida': 'dỡ', 'cùi': 'dỡ', 'mn': 'mọi người', 'bùn': 'buồn', 'fai': 'phải', 'hqua': 'hôm qua', 'bh': 'bảo hành', 'ttbh': 'trung tâm bảo hành', 'app': 'ứng dụng', 'mxh': 'mạng xã hội', 'cam': 'máy ảnh', 'came': 'máy ảnh', 'camera': 'máy ảnh', 'smattphone': 'điện thoại', 'fbk': 'mạng xã hội', 'qtv': 'quản trị viên', 'nt': 'như thế', 'fullbox': 'nguyên hộp', 'tgdd': 'thế giới di động', 'tgdđ': 'thế giới di động', 'dmx': 'điện máy xanh', 'dienmayxanh': 'điện máy xanh', 'e': 'em', 'ck': 'chồng', 'wer': 'website', 'thoi': 'thôi', 'thui': 'thôi', 'thuat': 'thuật', 'j': 'gì', 'sx': 'sản xuất', 'dk': 'đăng ký', 'đk': 'đăng ký', 'jb': 'mở mạng', 'cũngn': 'cũng', 'tuan': 'tuần', 'okê': 'tốt', 'vao': 'vào', 'bth': 'bình thường', 'đệm': 'đêm', 'ss': 'samsung', 'ad': 'quản trị viên', 'back': 'trở lại', 'bang': 'bằng', 'vê': 'về', 'nua': 'nữa', '=': 'bằng', 'biet': 'biết', 'ny': 'người yêu', 'ma2': 'mà', 'chubg': 'chung', 'nhu': 'như', 'vi': 'vì', 'toi': 'tôi', 'sai': 'sài', 'nhan': 'nhận', 'xet': 'xét', 'moi': 'mọi', 'thu': 'thứ', 'game': 'trò chơi', 'china': 'trung quốc', 'test': 'kiểm tra', 'hiu': 'hiểu'}\n"
     ]
    }
   ],
   "source": [
    "def read_txt_to_dict(file_path):\n",
    "    dictionary = {}\n",
    "    with open(file_path, 'r', encoding='utf-8') as file:\n",
    "        for line in file:\n",
    "            if line.strip():  # Bỏ qua các dòng trống\n",
    "                # Tách dòng theo khoảng trắng hoặc tab, chỉ tách lần đầu tiên để có cặp key-value\n",
    "                key, value = line.strip().split(maxsplit=1)\n",
    "                dictionary[key] = value\n",
    "    return dictionary\n",
    "\n",
    "acronyms = read_txt_to_dict('acronyms_vi.txt')\n",
    "print(acronyms)"
   ]
  },
  {
   "cell_type": "code",
   "execution_count": 59,
   "metadata": {},
   "outputs": [],
   "source": [
    "def segmentation(text):\n",
    "    return ViTokenizer.tokenize(text)\n",
    "\n",
    "def split_words(text):\n",
    "    try:\n",
    "        segmented_text = segmentation(text)\n",
    "        SPECIAL_CHARACTER = '.,!?;:\"\\'[]{}()<>@#$%^&*+-/\\\\|=~`_'\n",
    "        words = [x.strip(SPECIAL_CHARACTER).lower() for x in segmented_text.split()]\n",
    "        return \" \".join(words)\n",
    "    except TypeError:\n",
    "        return \"\"\n",
    "    \n",
    "def replace_acronyms(text, acronyms):\n",
    "    list_text = text.split(\" \")\n",
    "    for i in range(len(list_text)):\n",
    "        # Kiểm tra nếu từ hiện tại là một từ viết tắt trong acronyms (dict)\n",
    "        if list_text[i] in acronyms:\n",
    "            # Thay thế từ viết tắt bằng từ đầy đủ\n",
    "            list_text[i] = acronyms[list_text[i]]\n",
    "    return \" \".join(list_text)"
   ]
  },
  {
   "cell_type": "code",
   "execution_count": 60,
   "metadata": {},
   "outputs": [],
   "source": [
    "def clean_text(text):\n",
    "    # Chuyển văn bản về chữ thường\n",
    "    text = text.lower()\n",
    "    \n",
    "    text = replace_acronyms(text, acronyms)\n",
    "    \n",
    "    text = split_words(text)\n",
    "    \n",
    "    # Loại bỏ ký tự đặc biệt và dấu câu\n",
    "    text = re.sub(r'\\W', ' ', text)\n",
    "    \n",
    "    # Loại bỏ các số\n",
    "    text = re.sub(r'\\d+', '', text)\n",
    "    \n",
    "    # Loại bỏ các từ dừng (stopwords)\n",
    "    text = ' '.join([word for word in text.split() if word not in stopwords])\n",
    "    \n",
    "    return text"
   ]
  },
  {
   "cell_type": "code",
   "execution_count": 61,
   "metadata": {},
   "outputs": [
    {
     "name": "stdout",
     "output_type": "stream",
     "text": [
      "                                                text    category\n",
      "0  cá_nhân_hóa trải nghiệm công_nghệ tiên_tiến ng...  Apps/Games\n",
      "1  microsoft ra_mắt office office chính_thức ra_m...  Apps/Games\n",
      "2  thành_tựu black myth wukong youtube ải như_khô...  Apps/Games\n",
      "3  tựa trò_chơi đắt steam mua nội_dung tốn triệu ...  Apps/Games\n",
      "4  ceo trò_chơi science trả_lời hài_hước khả_năng...  Apps/Games\n"
     ]
    }
   ],
   "source": [
    "df['text'] = df['text'].apply(clean_text)\n",
    "print(df.head())"
   ]
  },
  {
   "cell_type": "code",
   "execution_count": 65,
   "metadata": {},
   "outputs": [
    {
     "data": {
      "text/plain": [
       "'tự_sự kỹ_sư trẻ xóa ví tiền điện_tử chứa bitcoin cảm_thấy nhàm_chán tiền điện_tử khai_thác máy_tính cá_nhân xử_lý amd phenom x ram mb'"
      ]
     },
     "execution_count": 65,
     "metadata": {},
     "output_type": "execute_result"
    }
   ],
   "source": [
    "df['text'][5643]"
   ]
  }
 ],
 "metadata": {
  "kernelspec": {
   "display_name": "env",
   "language": "python",
   "name": "python3"
  },
  "language_info": {
   "codemirror_mode": {
    "name": "ipython",
    "version": 3
   },
   "file_extension": ".py",
   "mimetype": "text/x-python",
   "name": "python",
   "nbconvert_exporter": "python",
   "pygments_lexer": "ipython3",
   "version": "3.12.5"
  }
 },
 "nbformat": 4,
 "nbformat_minor": 2
}
